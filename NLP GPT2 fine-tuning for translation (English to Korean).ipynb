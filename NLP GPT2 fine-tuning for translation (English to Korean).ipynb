{
 "cells": [
  {
   "cell_type": "code",
   "execution_count": null,
   "metadata": {},
   "outputs": [],
   "source": [
    "from transformers import GPT2Tokenizer, TFGPT2LMHeadModel, TFTrainingArguments, TFTrainer\n",
    "import tensorflow as tf\n",
    "\n",
    "# Load pre-trained GPT-2 model and tokenizer\n",
    "model = TFGPT2LMHeadModel.from_pretrained('gpt2')\n",
    "tokenizer = GPT2Tokenizer.from_pretrained('gpt2')\n",
    "\n",
    "# Load parallel corpus of English-Korean translations\n",
    "english_sentences = [...] # list of English sentences\n",
    "korean_sentences = [...] # list of Korean sentences\n",
    "\n",
    "# Tokenize the parallel corpus\n",
    "input_ids = []\n",
    "labels = []\n",
    "for i in range(len(english_sentences)):\n",
    "    input = tokenizer.encode(english_sentences[i], add_special_tokens=True, return_tensors='tf')\n",
    "    output = tokenizer.encode(korean_sentences[i], add_special_tokens=True, return_tensors='tf')\n",
    "    input_ids.append(input)\n",
    "    labels.append(output)\n",
    "\n",
    "# Create TensorFlow dataset\n",
    "dataset = tf.data.Dataset.from_tensor_slices(({\"input_ids\": input_ids}, {\"labels\": labels}))\n",
    "\n",
    "# Define training arguments\n",
    "training_args = TFTrainingArguments(\n",
    "    output_dir='./results',\n",
    "    num_train_epochs=3,\n",
    "    per_device_train_batch_size=4,\n",
    "    per_device_eval_batch_size=4,\n",
    "    warmup_steps=500,\n",
    "    weight_decay=0.01,\n",
    "    logging_dir='./logs',\n",
    "    logging_steps=10,\n",
    "    eval_steps=10,\n",
    "    save_steps=1000,\n",
    "    evaluation_strategy=\"steps\",\n",
    "    overwrite_output_dir=True,\n",
    "    save_total_limit=3,\n",
    ")\n",
    "\n",
    "# Create TFTrainer instance\n",
    "trainer = TFTrainer(\n",
    "    model=model,\n",
    "    args=training_args,\n",
    "    train_dataset=dataset,\n",
    ")\n",
    "\n",
    "# Fine-tune the model\n",
    "trainer.train()"
   ]
  }
 ],
 "metadata": {
  "language_info": {
   "name": "python"
  },
  "orig_nbformat": 4
 },
 "nbformat": 4,
 "nbformat_minor": 2
}
